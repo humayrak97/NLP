{
  "nbformat": 4,
  "nbformat_minor": 0,
  "metadata": {
    "colab": {
      "provenance": []
    },
    "kernelspec": {
      "name": "python3",
      "display_name": "Python 3"
    },
    "language_info": {
      "name": "python"
    }
  },
  "cells": [
    {
      "cell_type": "markdown",
      "source": [
        "# **Tensorflow**\n",
        "## Tokenization\n",
        "###import libraries and API"
      ],
      "metadata": {
        "id": "tDtRUcvakNZr"
      }
    },
    {
      "cell_type": "code",
      "source": [
        "import tensorflow as tf\n",
        "from tensorflow import keras\n",
        "from tensorflow.keras.preprocessing.text import Tokenizer\n"
      ],
      "metadata": {
        "id": "z_mYHa-mmXGG"
      },
      "execution_count": 16,
      "outputs": []
    },
    {
      "cell_type": "code",
      "source": [
        "#array of sentences\n",
        "sentences = [\n",
        "    'I like pretty clouds',\n",
        "    'I like pretty sky',\n",
        "    'You like pretty clouds!',\n",
        "    'Do you think the sky looks marvelous?'\n",
        "]\n"
      ],
      "metadata": {
        "id": "ak31x863m0qR"
      },
      "execution_count": 19,
      "outputs": []
    },
    {
      "cell_type": "code",
      "source": [
        "#num_words maximum words to keep if there were repeatative words\n",
        "tokenizer = Tokenizer(num_words = 100)\n",
        "tokenizer.fit_on_texts(sentences)\n",
        "word_index = tokenizer.word_index\n",
        "print(word_index)"
      ],
      "metadata": {
        "colab": {
          "base_uri": "https://localhost:8080/"
        },
        "id": "O6Rs9fIenUtX",
        "outputId": "6200bc34-4cc6-492a-c15a-2da965bc39db"
      },
      "execution_count": 20,
      "outputs": [
        {
          "output_type": "stream",
          "name": "stdout",
          "text": [
            "{'like': 1, 'pretty': 2, 'i': 3, 'clouds': 4, 'sky': 5, 'you': 6}\n"
          ]
        }
      ]
    },
    {
      "cell_type": "code",
      "source": [],
      "metadata": {
        "id": "XjDjq9F0OhJA"
      },
      "execution_count": null,
      "outputs": []
    }
  ]
}