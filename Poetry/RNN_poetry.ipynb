{
  "cells": [
    {
      "cell_type": "markdown",
      "metadata": {
        "id": "bXzW1t6Zmdpg"
      },
      "source": [
        "Importing libraries "
      ]
    },
    {
      "cell_type": "code",
      "execution_count": null,
      "metadata": {
        "id": "aAiZRzQcTTVS"
      },
      "outputs": [],
      "source": [
        "import tensorflow as tf\n",
        "\n",
        "from tensorflow.keras.preprocessing.sequence import pad_sequences\n",
        "from tensorflow.keras.layers import Embedding, LSTM, Dense, Bidirectional\n",
        "from tensorflow.keras.preprocessing.text import Tokenizer\n",
        "from tensorflow.keras.models import Sequential\n",
        "from tensorflow.keras.optimizers import Adam\n",
        "import numpy as np "
      ]
    },
    {
      "cell_type": "markdown",
      "metadata": {
        "id": "kzKfP83n6LgH"
      },
      "source": [
        "Dataset"
      ]
    },
    {
      "cell_type": "code",
      "execution_count": null,
      "metadata": {
        "id": "aI78aHx56Jvk"
      },
      "outputs": [],
      "source": [
        "!wget --no-check-certificate \\\n",
        "    https://storage.googleapis.com/laurencemoroney-blog.appspot.com/irish-lyrics-eof.txt \\\n",
        "    -O /tmp/irish-lyrics-eof.txt"
      ]
    },
    {
      "cell_type": "code",
      "execution_count": null,
      "metadata": {
        "id": "zG4p2zvYzbke"
      },
      "outputs": [],
      "source": [
        "#we dont need a validation dataset for generating text\n",
        "tokenizer = Tokenizer()\n",
        "\n",
        "#stored as a single string\n",
        "data = open('/tmp/irish-lyrics-eof.txt').read()\n",
        "\n",
        "#number of sentences by splitting the string\n",
        "corpus = data.lower().split(\"\\n\")\n",
        "\n",
        "#fit tokenizer in text to get word index\n",
        "tokenizer.fit_on_texts(corpus)\n",
        "\n",
        "#add 1 to the length of word indexfor vocabulary index to \n",
        "total_words = len(tokenizer.word_index) + 1\n",
        "\n",
        "print(tokenizer.word_index)\n",
        "print(total_words)"
      ]
    },
    {
      "cell_type": "code",
      "execution_count": null,
      "metadata": {
        "id": "ckqAbvrv79R5"
      },
      "outputs": [],
      "source": [
        "#turn them into training data as we've a list of tokenized sentences\n",
        "\n",
        "#create list of empty input sequences\n",
        "input_sequences = []\n",
        "for line in corpus:\n",
        "\t#for each line of corpus we'll create list of tokens\n",
        "\ttoken_list = tokenizer.texts_to_sequences([line])[0]\n",
        "\n",
        "#n_gram_sequences is basically a list of broken down sequences from the original sentence\n",
        "#like the 1st two , 1st three and so on , we are doing this so the model is trained well\n",
        "#so when we see these two words this one is next, \n",
        "#\"   \"\t  \"  \"    \"    threee words \"  \"  \"  \" ans so on \n",
        "\n",
        "\tfor i in range(1, len(token_list)):\n",
        "\t\tn_gram_sequence = token_list[:i+1]\n",
        "\t\tinput_sequences.append(n_gram_sequence)\n",
        "\t\n",
        "# pad sequences \n",
        "#start by getting length of the longest sentences, \n",
        "#pad everything with a 0 upto length max sent\n",
        "max_sequence_len = max([len(x) for x in input_sequences])\n",
        "input_sequences = np.array(pad_sequences(input_sequences, maxlen=max_sequence_len, padding='pre'))\n",
        "\n",
        "# create predictors and label\n",
        "xs, labels = input_sequences[:,:-1],input_sequences[:,-1]\n",
        "\n",
        "#we want y to be categorical & one hot encoded \n",
        "#so when we train, we'll be able to predict all words in our corpus\n",
        "#which one is the  most likely sequence to next in the sequnece\n",
        "ys = tf.keras.utils.to_categorical(labels, num_classes=total_words)"
      ]
    },
    {
      "cell_type": "code",
      "execution_count": null,
      "metadata": {
        "id": "0dbBK0IFg8Qb"
      },
      "outputs": [],
      "source": [
        "\n",
        "print(tokenizer.word_index['in'])\n",
        "print(tokenizer.word_index['the'])\n",
        "print(tokenizer.word_index['town'])\n",
        "print(tokenizer.word_index['of'])\n",
        "print(tokenizer.word_index['athy'])\n",
        "print(tokenizer.word_index['one'])\n",
        "print(tokenizer.word_index['jeremy'])\n",
        "print(tokenizer.word_index['lanigan'])"
      ]
    },
    {
      "cell_type": "code",
      "execution_count": null,
      "metadata": {
        "id": "JYm-WPuIg_Tp"
      },
      "outputs": [],
      "source": [
        "print(xs[6])\n",
        "print(ys[6])"
      ]
    },
    {
      "cell_type": "code",
      "execution_count": null,
      "metadata": {
        "id": "uYzHBsHTr9dc"
      },
      "outputs": [],
      "source": [
        "print(xs[5])\n",
        "print(ys[5])"
      ]
    },
    {
      "cell_type": "code",
      "execution_count": null,
      "metadata": {
        "id": "ZFrKAQAVhCKb"
      },
      "outputs": [],
      "source": [
        "print(tokenizer.word_index)"
      ]
    },
    {
      "cell_type": "code",
      "execution_count": 9,
      "metadata": {
        "colab": {
          "base_uri": "https://localhost:8080/"
        },
        "id": "4XxV9efKu7mm",
        "outputId": "9f44daf2-fc40-4a51-cd98-0a20f3d1e5db"
      },
      "outputs": [
        {
          "metadata": {
            "tags": null
          },
          "name": "stdout",
          "output_type": "stream",
          "text": [
            "Epoch 1/100\n"
          ]
        },
        {
          "metadata": {
            "tags": null
          },
          "name": "stderr",
          "output_type": "stream",
          "text": [
            "/usr/local/lib/python3.7/dist-packages/keras/optimizers/optimizer_v2/adam.py:110: UserWarning: The `lr` argument is deprecated, use `learning_rate` instead.\n",
            "  super(Adam, self).__init__(name, **kwargs)\n"
          ]
        },
        {
          "output_type": "stream",
          "name": "stdout",
          "text": [
            "377/377 [==============================] - 32s 75ms/step - loss: 6.6451 - accuracy: 0.0728\n",
            "Epoch 2/100\n",
            "377/377 [==============================] - 28s 73ms/step - loss: 5.8027 - accuracy: 0.1123\n",
            "Epoch 3/100\n",
            "377/377 [==============================] - 27s 73ms/step - loss: 4.9032 - accuracy: 0.1625\n",
            "Epoch 4/100\n",
            "377/377 [==============================] - 27s 72ms/step - loss: 3.9564 - accuracy: 0.2367\n",
            "Epoch 5/100\n",
            "377/377 [==============================] - 27s 72ms/step - loss: 3.1151 - accuracy: 0.3385\n",
            "Epoch 6/100\n",
            "377/377 [==============================] - 29s 76ms/step - loss: 2.4580 - accuracy: 0.4471\n",
            "Epoch 7/100\n",
            "377/377 [==============================] - 27s 73ms/step - loss: 2.0129 - accuracy: 0.5252\n",
            "Epoch 8/100\n",
            "377/377 [==============================] - 27s 73ms/step - loss: 1.6545 - accuracy: 0.6060\n",
            "Epoch 9/100\n",
            "377/377 [==============================] - 27s 73ms/step - loss: 1.3744 - accuracy: 0.6704\n",
            "Epoch 10/100\n",
            "377/377 [==============================] - 27s 72ms/step - loss: 1.1812 - accuracy: 0.7152\n",
            "Epoch 11/100\n",
            "377/377 [==============================] - 27s 72ms/step - loss: 1.1283 - accuracy: 0.7245\n",
            "Epoch 12/100\n",
            "377/377 [==============================] - 29s 76ms/step - loss: 1.1437 - accuracy: 0.7130\n",
            "Epoch 13/100\n",
            "377/377 [==============================] - 27s 72ms/step - loss: 1.2001 - accuracy: 0.6944\n",
            "Epoch 14/100\n",
            "377/377 [==============================] - 27s 72ms/step - loss: 1.1855 - accuracy: 0.7009\n",
            "Epoch 15/100\n",
            "377/377 [==============================] - 27s 72ms/step - loss: 1.1038 - accuracy: 0.7133\n",
            "Epoch 16/100\n",
            "377/377 [==============================] - 27s 72ms/step - loss: 1.0294 - accuracy: 0.7323\n",
            "Epoch 17/100\n",
            "377/377 [==============================] - 27s 73ms/step - loss: 0.9971 - accuracy: 0.7423\n",
            "Epoch 18/100\n",
            "377/377 [==============================] - 29s 76ms/step - loss: 0.9654 - accuracy: 0.7553\n",
            "Epoch 19/100\n",
            "377/377 [==============================] - 27s 72ms/step - loss: 0.9874 - accuracy: 0.7464\n",
            "Epoch 20/100\n",
            "377/377 [==============================] - 27s 72ms/step - loss: 1.0269 - accuracy: 0.7358\n",
            "Epoch 21/100\n",
            "377/377 [==============================] - 27s 72ms/step - loss: 1.0207 - accuracy: 0.7358\n",
            "Epoch 22/100\n",
            "377/377 [==============================] - 27s 72ms/step - loss: 1.0080 - accuracy: 0.7353\n",
            "Epoch 23/100\n",
            "377/377 [==============================] - 27s 72ms/step - loss: 1.0071 - accuracy: 0.7327\n",
            "Epoch 24/100\n",
            "377/377 [==============================] - 29s 76ms/step - loss: 1.0061 - accuracy: 0.7347\n",
            "Epoch 25/100\n",
            "377/377 [==============================] - 27s 72ms/step - loss: 0.9482 - accuracy: 0.7446\n",
            "Epoch 26/100\n",
            "377/377 [==============================] - 27s 73ms/step - loss: 0.9004 - accuracy: 0.7637\n",
            "Epoch 27/100\n",
            "377/377 [==============================] - 27s 72ms/step - loss: 0.8700 - accuracy: 0.7716\n",
            "Epoch 28/100\n",
            "377/377 [==============================] - 27s 72ms/step - loss: 0.8698 - accuracy: 0.7726\n",
            "Epoch 29/100\n",
            "377/377 [==============================] - 27s 71ms/step - loss: 0.8654 - accuracy: 0.7711\n",
            "Epoch 30/100\n",
            "377/377 [==============================] - 28s 76ms/step - loss: 0.8838 - accuracy: 0.7686\n",
            "Epoch 31/100\n",
            "377/377 [==============================] - 27s 73ms/step - loss: 0.9311 - accuracy: 0.7539\n",
            "Epoch 32/100\n",
            "377/377 [==============================] - 28s 73ms/step - loss: 1.0732 - accuracy: 0.7215\n",
            "Epoch 33/100\n",
            "377/377 [==============================] - 27s 73ms/step - loss: 1.0787 - accuracy: 0.7142\n",
            "Epoch 34/100\n",
            "377/377 [==============================] - 27s 72ms/step - loss: 1.0177 - accuracy: 0.7314\n",
            "Epoch 35/100\n",
            "377/377 [==============================] - 27s 71ms/step - loss: 0.9697 - accuracy: 0.7468\n",
            "Epoch 36/100\n",
            "377/377 [==============================] - 28s 74ms/step - loss: 0.9461 - accuracy: 0.7480\n",
            "Epoch 37/100\n",
            "377/377 [==============================] - 27s 71ms/step - loss: 0.9209 - accuracy: 0.7588\n",
            "Epoch 38/100\n",
            "377/377 [==============================] - 26s 70ms/step - loss: 0.9131 - accuracy: 0.7581\n",
            "Epoch 39/100\n",
            "377/377 [==============================] - 26s 69ms/step - loss: 0.8949 - accuracy: 0.7657\n",
            "Epoch 40/100\n",
            "377/377 [==============================] - 26s 69ms/step - loss: 0.8490 - accuracy: 0.7740\n",
            "Epoch 41/100\n",
            "377/377 [==============================] - 26s 69ms/step - loss: 0.8946 - accuracy: 0.7657\n",
            "Epoch 42/100\n",
            "377/377 [==============================] - 27s 71ms/step - loss: 1.0089 - accuracy: 0.7388\n",
            "Epoch 43/100\n",
            "377/377 [==============================] - 27s 70ms/step - loss: 0.9935 - accuracy: 0.7366\n",
            "Epoch 44/100\n",
            "377/377 [==============================] - 27s 73ms/step - loss: 0.9888 - accuracy: 0.7373\n",
            "Epoch 45/100\n",
            "377/377 [==============================] - 27s 72ms/step - loss: 0.9268 - accuracy: 0.7541\n",
            "Epoch 46/100\n",
            "377/377 [==============================] - 28s 74ms/step - loss: 0.8911 - accuracy: 0.7659\n",
            "Epoch 47/100\n",
            "377/377 [==============================] - 28s 74ms/step - loss: 0.8510 - accuracy: 0.7713\n",
            "Epoch 48/100\n",
            "377/377 [==============================] - 29s 76ms/step - loss: 0.8126 - accuracy: 0.7814\n",
            "Epoch 49/100\n",
            "377/377 [==============================] - 28s 73ms/step - loss: 0.8749 - accuracy: 0.7725\n",
            "Epoch 50/100\n",
            "377/377 [==============================] - 27s 73ms/step - loss: 0.9227 - accuracy: 0.7554\n",
            "Epoch 51/100\n",
            "377/377 [==============================] - 27s 72ms/step - loss: 1.0046 - accuracy: 0.7372\n",
            "Epoch 52/100\n",
            "377/377 [==============================] - 27s 73ms/step - loss: 1.0267 - accuracy: 0.7281\n",
            "Epoch 53/100\n",
            "377/377 [==============================] - 28s 74ms/step - loss: 0.9753 - accuracy: 0.7377\n",
            "Epoch 54/100\n",
            "377/377 [==============================] - 28s 76ms/step - loss: 0.9101 - accuracy: 0.7563\n",
            "Epoch 55/100\n",
            "377/377 [==============================] - 28s 73ms/step - loss: 0.8328 - accuracy: 0.7782\n",
            "Epoch 56/100\n",
            "377/377 [==============================] - 28s 73ms/step - loss: 0.7856 - accuracy: 0.7896\n",
            "Epoch 57/100\n",
            "377/377 [==============================] - 28s 74ms/step - loss: 0.8102 - accuracy: 0.7830\n",
            "Epoch 58/100\n",
            "377/377 [==============================] - 28s 74ms/step - loss: 0.8953 - accuracy: 0.7598\n",
            "Epoch 59/100\n",
            "377/377 [==============================] - 28s 75ms/step - loss: 0.9164 - accuracy: 0.7564\n",
            "Epoch 60/100\n",
            "377/377 [==============================] - 29s 78ms/step - loss: 1.0793 - accuracy: 0.7255\n",
            "Epoch 61/100\n",
            "377/377 [==============================] - 28s 75ms/step - loss: 1.0218 - accuracy: 0.7304\n",
            "Epoch 62/100\n",
            "377/377 [==============================] - 28s 75ms/step - loss: 0.9259 - accuracy: 0.7543\n",
            "Epoch 63/100\n",
            "377/377 [==============================] - 28s 74ms/step - loss: 0.8878 - accuracy: 0.7637\n",
            "Epoch 64/100\n",
            "377/377 [==============================] - 28s 74ms/step - loss: 0.7918 - accuracy: 0.7881\n",
            "Epoch 65/100\n",
            "377/377 [==============================] - 28s 75ms/step - loss: 0.8132 - accuracy: 0.7829\n",
            "Epoch 66/100\n",
            "377/377 [==============================] - 29s 77ms/step - loss: 0.9172 - accuracy: 0.7637\n",
            "Epoch 67/100\n",
            "377/377 [==============================] - 28s 74ms/step - loss: 0.9194 - accuracy: 0.7576\n",
            "Epoch 68/100\n",
            "377/377 [==============================] - 28s 74ms/step - loss: 1.1402 - accuracy: 0.7117\n",
            "Epoch 69/100\n",
            "377/377 [==============================] - 28s 73ms/step - loss: 1.0127 - accuracy: 0.7363\n",
            "Epoch 70/100\n",
            "377/377 [==============================] - 28s 74ms/step - loss: 1.0333 - accuracy: 0.7328\n",
            "Epoch 71/100\n",
            "377/377 [==============================] - 28s 74ms/step - loss: 0.9428 - accuracy: 0.7510\n",
            "Epoch 72/100\n",
            "377/377 [==============================] - 29s 78ms/step - loss: 0.8621 - accuracy: 0.7695\n",
            "Epoch 73/100\n",
            "377/377 [==============================] - 28s 75ms/step - loss: 0.8000 - accuracy: 0.7846\n",
            "Epoch 74/100\n",
            "377/377 [==============================] - 28s 75ms/step - loss: 0.7836 - accuracy: 0.7937\n",
            "Epoch 75/100\n",
            "377/377 [==============================] - 28s 75ms/step - loss: 0.7861 - accuracy: 0.7906\n",
            "Epoch 76/100\n",
            "377/377 [==============================] - 28s 74ms/step - loss: 0.8261 - accuracy: 0.7805\n",
            "Epoch 77/100\n",
            "377/377 [==============================] - 28s 74ms/step - loss: 0.9289 - accuracy: 0.7554\n",
            "Epoch 78/100\n",
            "377/377 [==============================] - 29s 76ms/step - loss: 0.9354 - accuracy: 0.7520\n",
            "Epoch 79/100\n",
            "377/377 [==============================] - 28s 74ms/step - loss: 0.9354 - accuracy: 0.7531\n",
            "Epoch 80/100\n",
            "377/377 [==============================] - 28s 74ms/step - loss: 0.9713 - accuracy: 0.7490\n",
            "Epoch 81/100\n",
            "377/377 [==============================] - 28s 74ms/step - loss: 1.0052 - accuracy: 0.7436\n",
            "Epoch 82/100\n",
            "377/377 [==============================] - 28s 73ms/step - loss: 0.9354 - accuracy: 0.7538\n",
            "Epoch 83/100\n",
            "377/377 [==============================] - 28s 73ms/step - loss: 0.8765 - accuracy: 0.7681\n",
            "Epoch 84/100\n",
            "377/377 [==============================] - 28s 75ms/step - loss: 0.8310 - accuracy: 0.7799\n",
            "Epoch 85/100\n",
            "377/377 [==============================] - 28s 73ms/step - loss: 0.8133 - accuracy: 0.7854\n",
            "Epoch 86/100\n",
            "377/377 [==============================] - 28s 73ms/step - loss: 0.7925 - accuracy: 0.7915\n",
            "Epoch 87/100\n",
            "377/377 [==============================] - 28s 74ms/step - loss: 0.7884 - accuracy: 0.7912\n",
            "Epoch 88/100\n",
            "377/377 [==============================] - 28s 74ms/step - loss: 0.8496 - accuracy: 0.7767\n",
            "Epoch 89/100\n",
            "377/377 [==============================] - 28s 73ms/step - loss: 0.9835 - accuracy: 0.7457\n",
            "Epoch 90/100\n",
            "377/377 [==============================] - 29s 76ms/step - loss: 1.0083 - accuracy: 0.7388\n",
            "Epoch 91/100\n",
            "377/377 [==============================] - 28s 74ms/step - loss: 0.9762 - accuracy: 0.7456\n",
            "Epoch 92/100\n",
            "377/377 [==============================] - 28s 74ms/step - loss: 0.9090 - accuracy: 0.7588\n",
            "Epoch 93/100\n",
            "377/377 [==============================] - 28s 73ms/step - loss: 0.8726 - accuracy: 0.7710\n",
            "Epoch 94/100\n",
            "377/377 [==============================] - 28s 74ms/step - loss: 0.8085 - accuracy: 0.7853\n",
            "Epoch 95/100\n",
            "377/377 [==============================] - 29s 76ms/step - loss: 0.7856 - accuracy: 0.7874\n",
            "Epoch 96/100\n",
            "377/377 [==============================] - 28s 73ms/step - loss: 0.7989 - accuracy: 0.7882\n",
            "Epoch 97/100\n",
            "377/377 [==============================] - 28s 74ms/step - loss: 0.8258 - accuracy: 0.7817\n",
            "Epoch 98/100\n",
            "377/377 [==============================] - 28s 74ms/step - loss: 0.8381 - accuracy: 0.7733\n",
            "Epoch 99/100\n",
            "377/377 [==============================] - 28s 75ms/step - loss: 0.8225 - accuracy: 0.7818\n",
            "Epoch 100/100\n",
            "377/377 [==============================] - 28s 75ms/step - loss: 0.8242 - accuracy: 0.7832\n",
            "<keras.engine.sequential.Sequential object at 0x7f25782b8f10>\n"
          ]
        }
      ],
      "source": [
        "model = Sequential()\n",
        "#1st parameter: unique words in the corpus, dimension 100\n",
        "#input length : because looped off the final value in each sequence to make label\n",
        "model.add(Embedding(total_words, 100, input_length=max_sequence_len-1))\n",
        "\n",
        "#made simple LSTM and made it bidirectional\n",
        "model.add(Bidirectional(LSTM(150)))\n",
        "\n",
        "#output is dense with total no. pf words ,\n",
        "#labels one hot encoded so output representative of this\n",
        "model.add(Dense(total_words, activation='softmax'))\n",
        "adam = Adam(lr=0.01)\n",
        "\n",
        "#defining loss function and optimizer\n",
        "model.compile(loss='categorical_crossentropy', optimizer=adam, metrics=['accuracy'])\n",
        "#earlystop = EarlyStopping(monitor='val_loss', min_delta=0, patience=5, verbose=0, mode='auto')\n",
        "history = model.fit(xs, ys, epochs=100, verbose=1)\n",
        "#print model.summary()\n",
        "print(model)"
      ]
    },
    {
      "cell_type": "code",
      "execution_count": 10,
      "metadata": {
        "id": "kZizUlYQv1KI"
      },
      "outputs": [],
      "source": [
        "import matplotlib.pyplot as plt"
      ]
    },
    {
      "cell_type": "code",
      "execution_count": 11,
      "metadata": {
        "id": "iiHey7Q52fbi",
        "colab": {
          "base_uri": "https://localhost:8080/",
          "height": 279
        },
        "outputId": "ae885862-5428-424f-c2d4-b5b20545d5e2"
      },
      "outputs": [
        {
          "output_type": "display_data",
          "data": {
            "text/plain": [
              "<Figure size 432x288 with 1 Axes>"
            ],
            "image/png": "[encoded data removed]"
          },
          "metadata": {
            "needs_background": "light"
          }
        }
      ],
      "source": [
        "def plot_graphs(history, string):\n",
        "  plt.plot(history.history[string])\n",
        "  plt.xlabel(\"Epochs\")\n",
        "  plt.ylabel(string)\n",
        "  plt.show()\n",
        "plot_graphs(history, 'accuracy')\n"
      ]
    },
    {
      "cell_type": "code",
      "execution_count": 12,
      "metadata": {
        "id": "yggmjTN8ijfr",
        "colab": {
          "base_uri": "https://localhost:8080/"
        },
        "outputId": "4cd50b35-1d1f-410d-9f57-b705d3d0a3f4"
      },
      "outputs": [
        {
          "output_type": "stream",
          "name": "stdout",
          "text": [
            "1/1 [==============================] - 1s 858ms/step\n",
            "1/1 [==============================] - 0s 20ms/step\n",
            "1/1 [==============================] - 0s 20ms/step\n",
            "1/1 [==============================] - 0s 24ms/step\n",
            "1/1 [==============================] - 0s 19ms/step\n",
            "1/1 [==============================] - 0s 23ms/step\n",
            "1/1 [==============================] - 0s 19ms/step\n",
            "1/1 [==============================] - 0s 23ms/step\n",
            "1/1 [==============================] - 0s 20ms/step\n",
            "1/1 [==============================] - 0s 19ms/step\n",
            "1/1 [==============================] - 0s 18ms/step\n",
            "1/1 [==============================] - 0s 19ms/step\n",
            "1/1 [==============================] - 0s 20ms/step\n",
            "1/1 [==============================] - 0s 20ms/step\n",
            "1/1 [==============================] - 0s 20ms/step\n",
            "1/1 [==============================] - 0s 24ms/step\n",
            "1/1 [==============================] - 0s 19ms/step\n",
            "1/1 [==============================] - 0s 20ms/step\n",
            "1/1 [==============================] - 0s 20ms/step\n",
            "1/1 [==============================] - 0s 20ms/step\n",
            "1/1 [==============================] - 0s 25ms/step\n",
            "1/1 [==============================] - 0s 19ms/step\n",
            "1/1 [==============================] - 0s 19ms/step\n",
            "1/1 [==============================] - 0s 22ms/step\n",
            "1/1 [==============================] - 0s 19ms/step\n",
            "1/1 [==============================] - 0s 19ms/step\n",
            "1/1 [==============================] - 0s 19ms/step\n",
            "1/1 [==============================] - 0s 20ms/step\n",
            "1/1 [==============================] - 0s 23ms/step\n",
            "1/1 [==============================] - 0s 19ms/step\n",
            "1/1 [==============================] - 0s 19ms/step\n",
            "1/1 [==============================] - 0s 18ms/step\n",
            "1/1 [==============================] - 0s 18ms/step\n",
            "1/1 [==============================] - 0s 18ms/step\n",
            "1/1 [==============================] - 0s 23ms/step\n",
            "1/1 [==============================] - 0s 20ms/step\n",
            "1/1 [==============================] - 0s 19ms/step\n",
            "1/1 [==============================] - 0s 22ms/step\n",
            "1/1 [==============================] - 0s 20ms/step\n",
            "1/1 [==============================] - 0s 24ms/step\n",
            "1/1 [==============================] - 0s 20ms/step\n",
            "1/1 [==============================] - 0s 19ms/step\n",
            "1/1 [==============================] - 0s 23ms/step\n",
            "1/1 [==============================] - 0s 20ms/step\n",
            "1/1 [==============================] - 0s 20ms/step\n",
            "1/1 [==============================] - 0s 20ms/step\n",
            "1/1 [==============================] - 0s 20ms/step\n",
            "1/1 [==============================] - 0s 19ms/step\n",
            "1/1 [==============================] - 0s 25ms/step\n",
            "1/1 [==============================] - 0s 19ms/step\n",
            "1/1 [==============================] - 0s 20ms/step\n",
            "1/1 [==============================] - 0s 23ms/step\n",
            "1/1 [==============================] - 0s 21ms/step\n",
            "1/1 [==============================] - 0s 27ms/step\n",
            "1/1 [==============================] - 0s 20ms/step\n",
            "1/1 [==============================] - 0s 21ms/step\n",
            "1/1 [==============================] - 0s 20ms/step\n",
            "1/1 [==============================] - 0s 19ms/step\n",
            "1/1 [==============================] - 0s 19ms/step\n",
            "1/1 [==============================] - 0s 25ms/step\n",
            "1/1 [==============================] - 0s 19ms/step\n",
            "1/1 [==============================] - 0s 21ms/step\n",
            "1/1 [==============================] - 0s 19ms/step\n",
            "1/1 [==============================] - 0s 20ms/step\n",
            "1/1 [==============================] - 0s 19ms/step\n",
            "1/1 [==============================] - 0s 18ms/step\n",
            "1/1 [==============================] - 0s 18ms/step\n",
            "1/1 [==============================] - 0s 20ms/step\n",
            "1/1 [==============================] - 0s 19ms/step\n",
            "1/1 [==============================] - 0s 19ms/step\n",
            "1/1 [==============================] - 0s 27ms/step\n",
            "1/1 [==============================] - 0s 19ms/step\n",
            "1/1 [==============================] - 0s 20ms/step\n",
            "1/1 [==============================] - 0s 18ms/step\n",
            "1/1 [==============================] - 0s 22ms/step\n",
            "1/1 [==============================] - 0s 19ms/step\n",
            "1/1 [==============================] - 0s 19ms/step\n",
            "1/1 [==============================] - 0s 18ms/step\n",
            "1/1 [==============================] - 0s 19ms/step\n",
            "1/1 [==============================] - 0s 20ms/step\n",
            "1/1 [==============================] - 0s 19ms/step\n",
            "1/1 [==============================] - 0s 19ms/step\n",
            "1/1 [==============================] - 0s 22ms/step\n",
            "1/1 [==============================] - 0s 20ms/step\n",
            "1/1 [==============================] - 0s 19ms/step\n",
            "1/1 [==============================] - 0s 21ms/step\n",
            "1/1 [==============================] - 0s 19ms/step\n",
            "1/1 [==============================] - 0s 19ms/step\n",
            "1/1 [==============================] - 0s 19ms/step\n",
            "1/1 [==============================] - 0s 19ms/step\n",
            "1/1 [==============================] - 0s 19ms/step\n",
            "1/1 [==============================] - 0s 24ms/step\n",
            "1/1 [==============================] - 0s 20ms/step\n",
            "1/1 [==============================] - 0s 25ms/step\n",
            "1/1 [==============================] - 0s 19ms/step\n",
            "1/1 [==============================] - 0s 20ms/step\n",
            "1/1 [==============================] - 0s 19ms/step\n",
            "1/1 [==============================] - 0s 19ms/step\n",
            "1/1 [==============================] - 0s 20ms/step\n",
            "1/1 [==============================] - 0s 19ms/step\n",
            "I've got a bad feeling about this crown leave in morning some little stile but in ould faces and the divils and all at divinity high road in rising childer are reel on the road to drumslieve crystal march with faces drawn to fill to me grief said love you tis trod so shining near oer the prime of green and the green down by a river when we safely landed that were gone and the covers buttoned down by my own fireside are on their way i wid you love my own low so dearly so dearly watch and hope and pray an equality then that\n"
          ]
        }
      ],
      "source": [
        "#to generate text, seed it with some text & predict next values\n",
        "seed_text = \"I've got a bad feeling about this\"\n",
        "next_words = 100\n",
        "  \n",
        "for _ in range(next_words):\n",
        "\ttoken_list = tokenizer.texts_to_sequences([seed_text])[0]\n",
        "\ttoken_list = pad_sequences([token_list], maxlen=max_sequence_len-1, padding='pre')\n",
        "\tpredicted = np.argmax(model.predict(token_list), axis=-1)\n",
        "\toutput_word = \"\"\n",
        "\tfor word, index in tokenizer.word_index.items():\n",
        "\t\tif index == predicted:\n",
        "\t\t\toutput_word = word\n",
        "\t\t\tbreak\n",
        "\tseed_text += \" \" + output_word\n",
        "print(seed_text)"
      ]
    }
  ],
  "metadata": {
    "colab": {
      "collapsed_sections": [],
      "provenance": []
    },
    "kernelspec": {
      "display_name": "Python 3",
      "name": "python3"
    },
    "language_info": {
      "name": "python"
    }
  },
  "nbformat": 4,
  "nbformat_minor": 0
}